{
    "cells": [
        {
            "cell_type": "markdown",
            "metadata": {
                "collapsed": true
            },
            "source": "## Part 1. Postal codes\n1. Use BeautifulSoup library to extract postal codes from Wikipedia\n1. Load postal codes into pandas data frame\n1. While loading the data, check for 'Not assigned' and exlclude or replace the cells\n1. Use GroupBy to combine rows with repeating postal codes"
        },
        {
            "cell_type": "code",
            "execution_count": 2,
            "metadata": {},
            "outputs": [
                {
                    "name": "stdout",
                    "output_type": "stream",
                    "text": "Solving environment: done\n\n## Package Plan ##\n\n  environment location: /opt/conda/envs/Python36\n\n  added / updated specs: \n    - folium=0.5.0\n\n\nThe following packages will be downloaded:\n\n    package                    |            build\n    ---------------------------|-----------------\n    folium-0.5.0               |             py_0          45 KB  conda-forge\n    ca-certificates-2019.11.28 |       hecc5488_0         145 KB  conda-forge\n    openssl-1.1.1d             |       h516909a_0         2.1 MB  conda-forge\n    vincent-0.4.4              |             py_1          28 KB  conda-forge\n    altair-4.0.1               |             py_0         575 KB  conda-forge\n    branca-0.4.0               |             py_0          26 KB  conda-forge\n    certifi-2019.11.28         |           py36_0         149 KB  conda-forge\n    ------------------------------------------------------------\n                                           Total:         3.0 MB\n\nThe following NEW packages will be INSTALLED:\n\n    altair:          4.0.1-py_0        conda-forge\n    branca:          0.4.0-py_0        conda-forge\n    folium:          0.5.0-py_0        conda-forge\n    vincent:         0.4.4-py_1        conda-forge\n\nThe following packages will be UPDATED:\n\n    ca-certificates: 2019.11.27-0                  --> 2019.11.28-hecc5488_0 conda-forge\n    certifi:         2019.11.28-py36_0             --> 2019.11.28-py36_0     conda-forge\n\nThe following packages will be DOWNGRADED:\n\n    openssl:         1.1.1d-h7b6447c_3             --> 1.1.1d-h516909a_0     conda-forge\n\n\nDownloading and Extracting Packages\nfolium-0.5.0         | 45 KB     | ##################################### | 100% \nca-certificates-2019 | 145 KB    | ##################################### | 100% \nopenssl-1.1.1d       | 2.1 MB    | ##################################### | 100% \nvincent-0.4.4        | 28 KB     | ##################################### | 100% \naltair-4.0.1         | 575 KB    | ##################################### | 100% \nbranca-0.4.0         | 26 KB     | ##################################### | 100% \ncertifi-2019.11.28   | 149 KB    | ##################################### | 100% \nPreparing transaction: done\nVerifying transaction: done\nExecuting transaction: done\n"
                }
            ],
            "source": "wiki_url = 'https://en.wikipedia.org/wiki/List_of_postal_codes_of_Canada:_M'\n\n# Import all necessary libraries\n\nimport requests # library to handle requests\nfrom bs4 import BeautifulSoup # library to decode HTML pages\nimport pandas as pd # library to process data as dataframes\nimport numpy as np # library to handle data in a vectorized manner\n\nfrom geopy.geocoders import Nominatim\n\nimport matplotlib.cm as cm # Matplotlib and associated plotting modules\nimport matplotlib.colors as colors\n\nfrom sklearn.cluster import KMeans # import k-means from clustering stage\n\n!conda install -c conda-forge folium=0.5.0 --yes\nimport folium # map rendering library"
        },
        {
            "cell_type": "code",
            "execution_count": 12,
            "metadata": {},
            "outputs": [],
            "source": "# Downoad wiki page into soup\nwiki_page = requests.get(wiki_url).text\nsoup = BeautifulSoup(wiki_page,'lxml')"
        },
        {
            "cell_type": "markdown",
            "metadata": {},
            "source": "Wikipedia uses sortable tables marked with __wikitable sortable__. I use it to find my table on the page.<br>\nThen I read all lines from the table (using __tr__ tag) and each line contains a code, borough and neighbourhood."
        },
        {
            "cell_type": "code",
            "execution_count": 13,
            "metadata": {},
            "outputs": [],
            "source": "# Load page lines\npostal_table = soup.find('table',{'class':'wikitable sortable'})\npostal_lines = postal_table.findAll('tr')"
        },
        {
            "cell_type": "code",
            "execution_count": 14,
            "metadata": {
                "scrolled": true
            },
            "outputs": [],
            "source": "# Read <td> and collect the data into a dataframe\ncol1 = []\ncol2 = []\ncol3 = []\n\nfor tr in postal_table.find_all('tr'):\n    tds = tr.find_all('td')\n    if not tds:\n        continue\n    cell1, cell2, cell3 = [td.text.strip() for td in tds[:3]]\n    if cell2 != 'Not assigned':\n        if cell3 == 'Not assigned':\n            cell3 = cell2\n        col1.append(cell1)\n        col2.append(cell2)\n        col3.append(cell3)\n\ndf = pd.DataFrame()\ndf['Postalcode'] = col1\ndf['Borough'] = col2\ndf['Neighborhood'] = col3"
        },
        {
            "cell_type": "code",
            "execution_count": 15,
            "metadata": {},
            "outputs": [
                {
                    "data": {
                        "text/html": "<div>\n<style scoped>\n    .dataframe tbody tr th:only-of-type {\n        vertical-align: middle;\n    }\n\n    .dataframe tbody tr th {\n        vertical-align: top;\n    }\n\n    .dataframe thead th {\n        text-align: right;\n    }\n</style>\n<table border=\"1\" class=\"dataframe\">\n  <thead>\n    <tr style=\"text-align: right;\">\n      <th></th>\n      <th>Postalcode</th>\n      <th>Borough</th>\n      <th>Neighborhood</th>\n    </tr>\n  </thead>\n  <tbody>\n    <tr>\n      <th>0</th>\n      <td>M9W</td>\n      <td>Etobicoke</td>\n      <td>Northwest</td>\n    </tr>\n    <tr>\n      <th>1</th>\n      <td>M2M</td>\n      <td>North York</td>\n      <td>Newtonbrook, Willowdale</td>\n    </tr>\n    <tr>\n      <th>2</th>\n      <td>M4T</td>\n      <td>Central Toronto</td>\n      <td>Moore Park, Summerhill East</td>\n    </tr>\n    <tr>\n      <th>3</th>\n      <td>M6E</td>\n      <td>York</td>\n      <td>Caledonia-Fairbanks</td>\n    </tr>\n    <tr>\n      <th>4</th>\n      <td>M3N</td>\n      <td>North York</td>\n      <td>Downsview Northwest</td>\n    </tr>\n  </tbody>\n</table>\n</div>",
                        "text/plain": "  Postalcode          Borough                 Neighborhood\n0        M9W        Etobicoke                    Northwest\n1        M2M       North York      Newtonbrook, Willowdale\n2        M4T  Central Toronto  Moore Park, Summerhill East\n3        M6E             York          Caledonia-Fairbanks\n4        M3N       North York          Downsview Northwest"
                    },
                    "execution_count": 15,
                    "metadata": {},
                    "output_type": "execute_result"
                }
            ],
            "source": "# Group neighbourhoods\ndf_grouped = df.groupby(['Postalcode','Borough'])['Neighborhood'].apply(list)\ndf_grouped = df_grouped.sample(frac=1).reset_index()\ndf_grouped['Neighborhood']= df_grouped['Neighborhood'].str.join(', ')\n\ndf_grouped.shape\ndf_grouped.head()"
        },
        {
            "cell_type": "markdown",
            "metadata": {},
            "source": "## Part 2. Add coordinates\n\nI decided not to work with unstable services, so I load coordinates from the provided csv file"
        },
        {
            "cell_type": "code",
            "execution_count": 16,
            "metadata": {},
            "outputs": [],
            "source": "url_coordinates = 'http://cocl.us/Geospatial_data'\ndfCoords = pd.read_csv(url_coordinates)"
        },
        {
            "cell_type": "code",
            "execution_count": 17,
            "metadata": {},
            "outputs": [
                {
                    "data": {
                        "text/html": "<div>\n<style scoped>\n    .dataframe tbody tr th:only-of-type {\n        vertical-align: middle;\n    }\n\n    .dataframe tbody tr th {\n        vertical-align: top;\n    }\n\n    .dataframe thead th {\n        text-align: right;\n    }\n</style>\n<table border=\"1\" class=\"dataframe\">\n  <thead>\n    <tr style=\"text-align: right;\">\n      <th></th>\n      <th>Postalcode</th>\n      <th>Borough</th>\n      <th>Neighborhood</th>\n      <th>Latitude</th>\n      <th>Longitude</th>\n    </tr>\n  </thead>\n  <tbody>\n    <tr>\n      <th>0</th>\n      <td>M9W</td>\n      <td>Etobicoke</td>\n      <td>Northwest</td>\n      <td>43.706748</td>\n      <td>-79.594054</td>\n    </tr>\n    <tr>\n      <th>1</th>\n      <td>M2M</td>\n      <td>North York</td>\n      <td>Newtonbrook, Willowdale</td>\n      <td>43.789053</td>\n      <td>-79.408493</td>\n    </tr>\n    <tr>\n      <th>2</th>\n      <td>M4T</td>\n      <td>Central Toronto</td>\n      <td>Moore Park, Summerhill East</td>\n      <td>43.689574</td>\n      <td>-79.383160</td>\n    </tr>\n    <tr>\n      <th>3</th>\n      <td>M6E</td>\n      <td>York</td>\n      <td>Caledonia-Fairbanks</td>\n      <td>43.689026</td>\n      <td>-79.453512</td>\n    </tr>\n    <tr>\n      <th>4</th>\n      <td>M3N</td>\n      <td>North York</td>\n      <td>Downsview Northwest</td>\n      <td>43.761631</td>\n      <td>-79.520999</td>\n    </tr>\n  </tbody>\n</table>\n</div>",
                        "text/plain": "  Postalcode          Borough                 Neighborhood   Latitude  \\\n0        M9W        Etobicoke                    Northwest  43.706748   \n1        M2M       North York      Newtonbrook, Willowdale  43.789053   \n2        M4T  Central Toronto  Moore Park, Summerhill East  43.689574   \n3        M6E             York          Caledonia-Fairbanks  43.689026   \n4        M3N       North York          Downsview Northwest  43.761631   \n\n   Longitude  \n0 -79.594054  \n1 -79.408493  \n2 -79.383160  \n3 -79.453512  \n4 -79.520999  "
                    },
                    "execution_count": 17,
                    "metadata": {},
                    "output_type": "execute_result"
                }
            ],
            "source": "dfAreas = df_grouped.merge(dfCoords, left_on='Postalcode',right_on='Postal Code')\ndfAreas.drop(['Postal Code'], axis=1, inplace=True)\ndfAreas.head()"
        }
    ],
    "metadata": {
        "kernelspec": {
            "display_name": "Python 3.6",
            "language": "python",
            "name": "python3"
        },
        "language_info": {
            "codemirror_mode": {
                "name": "ipython",
                "version": 3
            },
            "file_extension": ".py",
            "mimetype": "text/x-python",
            "name": "python",
            "nbconvert_exporter": "python",
            "pygments_lexer": "ipython3",
            "version": "3.6.9"
        }
    },
    "nbformat": 4,
    "nbformat_minor": 1
}